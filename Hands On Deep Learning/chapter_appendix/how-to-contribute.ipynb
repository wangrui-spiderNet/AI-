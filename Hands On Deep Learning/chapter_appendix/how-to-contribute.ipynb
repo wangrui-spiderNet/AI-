{
 "cells": [
  {
   "cell_type": "markdown",
   "metadata": {},
   "source": [
    "# 如何为本书贡献\n",
    "\n",
    "本书在“致谢”部分感谢本书的所有贡献者并列出他们的 Github ID 或姓名。每位贡献者也将在本书出版时获得一本贡献者专享的赠书。\n",
    "\n",
    "你可以在本书的 Github 代码库查看贡献者列表 [1]。如果你希望成为本书的贡献者之一，需要安装 Git 并为本书的 Github 代码库提交 pull request [2]。当你的 pull request 被本书作者合并进了代码库后，你就成为了本书的贡献者。\n",
    "\n",
    "本节介绍了为本书贡献的基本 Git 操作步骤。如果你熟悉 Git 的操作，可以跳过本节。\n",
    "\n",
    "以下的操作步骤假设贡献者的 Github ID 为“astonzhang”。\n",
    "\n",
    "第一步，安装 Git。Git 的开源书里详细介绍了安装 Git 的方法 [3]。如果你没有 Github 账号，需要注册一个账号 [4]。\n",
    "\n",
    "第二步，登录 Github。在浏览器输入本书代码库地址 [2]。点击图 11.20 右上方红框中的“Fork”按钮获得一份本书的代码库。\n",
    "\n",
    "![代码库的页面。](../img/contrib01.png)\n",
    "\n",
    "\n",
    "这时，本书的代码库会复制到你的用户名下，例如图 11.21 左上方显示的“你的 Github ID/d2l-zh”。\n",
    "\n",
    "![复制代码库。](../img/contrib02.png)\n",
    "\n",
    "\n",
    "第三步，点击图 11.21 右方的“Clone or download”绿色按钮，并点击红框中的按钮复制位于你用户名下的代码库地址。按[“获取和运行本书代码”](../chapter_prerequisite/install.md)一节中介绍的方法进入命令行模式。假设我们希望将代码库保存在本地的“~/repo”路径之下。进入该路径，键入`git clone `并粘贴位于你用户名下的代码库地址。执行命令"
   ]
  },
  {
   "cell_type": "markdown",
   "metadata": {},
   "source": [
    "```\n",
    "# 将 your_Github_ID 替换成你的 Github 用户名。\n",
    "git clone https://github.com/your_Github_ID/d2l-zh.git\n",
    "```\n"
   ]
  },
  {
   "cell_type": "markdown",
   "metadata": {},
   "source": [
    "这时，本地的“~/repo/d2l-zh”路径下将包含本书代码库中的所有文件。\n",
    "\n",
    "\n",
    "第四步，编辑本地路径下的本书代码库。假设我们修改了`~/repo/d2l-zh/chapter_deep-learning-basics/linear-regression.md`文件中的一个错别字。在命令行模式中进入路径`~/repo/d2l-zh`，执行命令"
   ]
  },
  {
   "cell_type": "markdown",
   "metadata": {},
   "source": [
    "```\n",
    "git status\n",
    "```\n"
   ]
  },
  {
   "cell_type": "markdown",
   "metadata": {},
   "source": [
    "此时 Git 将提示“chapter_deep-learning-basics/linear-regression.md”文件已被修改，如图 11.22 所示。\n",
    "\n",
    "![Git提示“chapter_deep-learning-basics/linear-regression.md”文件已被修改。](../img/contrib03.png)\n",
    "\n",
    "确认将提交该修改的文件后，执行以下命令"
   ]
  },
  {
   "cell_type": "markdown",
   "metadata": {},
   "source": [
    "```\n",
    "git add chapter_deep-learning-basics/linear-regression.md\n",
    "git commit -m 'fix typo in linear-regression.md'\n",
    "git push\n",
    "```\n"
   ]
  },
  {
   "cell_type": "markdown",
   "metadata": {},
   "source": [
    "其中的`'fix typo in linear-regression.md'`是描述提交改动的信息，也可以替换为其他有意义的描述信息。\n",
    "\n",
    "\n",
    "第五步，再次在浏览器输入本书代码库地址 [2]。点击图 11.20 左方红框中的“New pull request”按钮。在弹出的页面中，点击图 11.23 右方红框中的“compare across forks”链接，再点击下方红框中的“head fork: diveintodeeplearning/d2l-zh”按钮。在弹出的文本框中输入你的 Github ID，在下拉菜单中选择“你的 Github-ID/d2l-zh”，如图 11.23 所示。\n",
    "\n",
    "\n",
    "![选择改动来源所在的代码库。](../img/contrib04.png)\n",
    "\n",
    "\n",
    "第六步，如图 11.24 所示，在标题和正文的文本框中描述想要提交的 pull request。点击红框中的“Create pull request”绿色按钮提交 pull request。\n",
    "\n",
    "![描述并提交pull request。](../img/contrib05.png)\n",
    "\n",
    "\n",
    "提交完成后，我们会看到图 11.25 所示的页面中显示 pull request 已提交。\n",
    "\n",
    "![显示pull request已提交。](../img/contrib06.png)\n",
    "\n",
    "\n",
    "\n",
    "\n",
    "## 小结\n",
    "\n",
    "* 我们可以通过使用 Github 为本书做贡献。\n",
    "\n",
    "\n",
    "## 练习\n",
    "\n",
    "* 如果你觉得本书某些地方可以改进，尝试提交一个 pull request。\n",
    "\n",
    "\n",
    "## 扫码直达[讨论区](https://discuss.gluon.ai/t/topic/7570)\n",
    "\n",
    "![](../img/qr_how-to-contribute.svg)\n",
    "\n",
    "\n",
    "## 参考文献\n",
    "\n",
    "[1] 本书贡献者列表。https://github.com/diveintodeeplearning/d2l-zh/graphs/contributors\n",
    "\n",
    "[2] 本书代码库地址。https://github.com/diveintodeeplearning/d2l-zh\n",
    "\n",
    "[3] 安装 Git。https://git-scm.com/book/zh/v2\n",
    "\n",
    "[4] Github 网址。https://github.com/"
   ]
  }
 ],
 "metadata": {
  "language_info": {
   "name": "python"
  }
 },
 "nbformat": 4,
 "nbformat_minor": 2
}